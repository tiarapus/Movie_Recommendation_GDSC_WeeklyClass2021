{
 "cells": [
  {
   "cell_type": "code",
   "execution_count": 5,
   "id": "90e9b729",
   "metadata": {},
   "outputs": [],
   "source": [
    "import pandas as pd\n",
    "\n",
    "mov = pd.read_csv(\"dataset/movies.csv\")\n",
    "rating = pd.read_csv(\"dataset/ratings.csv\")\n"
   ]
  },
  {
   "cell_type": "code",
   "execution_count": 6,
   "id": "5653b46a",
   "metadata": {},
   "outputs": [
    {
     "data": {
      "text/html": [
       "<div>\n",
       "<style scoped>\n",
       "    .dataframe tbody tr th:only-of-type {\n",
       "        vertical-align: middle;\n",
       "    }\n",
       "\n",
       "    .dataframe tbody tr th {\n",
       "        vertical-align: top;\n",
       "    }\n",
       "\n",
       "    .dataframe thead th {\n",
       "        text-align: right;\n",
       "    }\n",
       "</style>\n",
       "<table border=\"1\" class=\"dataframe\">\n",
       "  <thead>\n",
       "    <tr style=\"text-align: right;\">\n",
       "      <th></th>\n",
       "      <th>movie_id</th>\n",
       "      <th>movie_title</th>\n",
       "      <th>movie_genres_str</th>\n",
       "    </tr>\n",
       "  </thead>\n",
       "  <tbody>\n",
       "    <tr>\n",
       "      <th>0</th>\n",
       "      <td>1</td>\n",
       "      <td>Toy Story (1995)</td>\n",
       "      <td>['Adventure', 'Animation', \"Children's\"]</td>\n",
       "    </tr>\n",
       "    <tr>\n",
       "      <th>1</th>\n",
       "      <td>2</td>\n",
       "      <td>GoldenEye (1995)</td>\n",
       "      <td>['unknown', 'Action', 'Thriller']</td>\n",
       "    </tr>\n",
       "    <tr>\n",
       "      <th>2</th>\n",
       "      <td>3</td>\n",
       "      <td>Four Rooms (1995)</td>\n",
       "      <td>['Thriller']</td>\n",
       "    </tr>\n",
       "    <tr>\n",
       "      <th>3</th>\n",
       "      <td>4</td>\n",
       "      <td>Get Shorty (1995)</td>\n",
       "      <td>['unknown', \"Children's\", 'Documentary']</td>\n",
       "    </tr>\n",
       "    <tr>\n",
       "      <th>4</th>\n",
       "      <td>5</td>\n",
       "      <td>Copycat (1995)</td>\n",
       "      <td>['Comedy', 'Documentary', 'Thriller']</td>\n",
       "    </tr>\n",
       "  </tbody>\n",
       "</table>\n",
       "</div>"
      ],
      "text/plain": [
       "   movie_id        movie_title                          movie_genres_str\n",
       "0         1   Toy Story (1995)  ['Adventure', 'Animation', \"Children's\"]\n",
       "1         2   GoldenEye (1995)         ['unknown', 'Action', 'Thriller']\n",
       "2         3  Four Rooms (1995)                              ['Thriller']\n",
       "3         4  Get Shorty (1995)  ['unknown', \"Children's\", 'Documentary']\n",
       "4         5     Copycat (1995)     ['Comedy', 'Documentary', 'Thriller']"
      ]
     },
     "execution_count": 6,
     "metadata": {},
     "output_type": "execute_result"
    }
   ],
   "source": [
    "mov.head()"
   ]
  },
  {
   "cell_type": "code",
   "execution_count": 11,
   "id": "2f0141e7",
   "metadata": {},
   "outputs": [],
   "source": [
    "#jumlah movie id yang unique (jumlah film and user)\n",
    "n_mov = rating.movie_id.nunique()\n",
    "n_user = rating.user_id.nunique()"
   ]
  },
  {
   "cell_type": "code",
   "execution_count": 12,
   "id": "c2bdc213",
   "metadata": {},
   "outputs": [],
   "source": [
    "###Data spliting####\n",
    "\n",
    "\n",
    "from sklearn.model_selection import train_test_split\n",
    "\n",
    "train,test = train_test_split(rating, test_size=0.2)"
   ]
  },
  {
   "cell_type": "code",
   "execution_count": 54,
   "id": "cf17f32b",
   "metadata": {},
   "outputs": [],
   "source": [
    "## model building\n",
    "\n",
    "from tensorflow.keras.models import Model\n",
    "from tensorflow.keras.layers import Input, Embedding, Dot, Flatten\n",
    "\n",
    "EMBEDDING_DIM = 20\n",
    "\n",
    "#input layer\n",
    "mov_input = Input(shape=1)\n",
    "user_input = Input(shape=1)\n",
    "\n",
    "#embedding layer\n",
    "mov_embedding = Embedding(n_mov+1, EMBEDDING_DIM)(mov_input)\n",
    "user_embedding = Embedding(n_user+1, EMBEDDING_DIM)(user_input)\n",
    "\n",
    "mov_flat = Flatten()(mov_embedding)\n",
    "user_flat = Flatten()(user_embedding)\n",
    "\n",
    "#output layer\n",
    "output = Dot(1)([mov_flat, user_flat])\n",
    "\n",
    "model = Model([mov_input, user_input], [output])"
   ]
  },
  {
   "cell_type": "code",
   "execution_count": 55,
   "id": "ed5c8aa8",
   "metadata": {},
   "outputs": [],
   "source": [
    "#hyperparameter loss function\n",
    "from tensorflow.keras.optimizers import Adam\n",
    "model.compile(optimizer=Adam(learning_rate=1e-3), loss='mse')"
   ]
  },
  {
   "cell_type": "code",
   "execution_count": 56,
   "id": "08458f64",
   "metadata": {},
   "outputs": [
    {
     "name": "stdout",
     "output_type": "stream",
     "text": [
      "Epoch 1/30\n",
      "625/625 [==============================] - 4s 4ms/step - loss: 12.7041 - val_loss: 287742.6875\n",
      "Epoch 2/30\n",
      "625/625 [==============================] - 2s 4ms/step - loss: 3.7946 - val_loss: 285748.1562\n",
      "Epoch 3/30\n",
      "625/625 [==============================] - 2s 4ms/step - loss: 1.3904 - val_loss: 285422.2188\n",
      "Epoch 4/30\n",
      "625/625 [==============================] - 2s 4ms/step - loss: 1.0505 - val_loss: 285338.8750\n",
      "Epoch 5/30\n",
      "625/625 [==============================] - 2s 4ms/step - loss: 0.9353 - val_loss: 285300.5938\n",
      "Epoch 6/30\n",
      "625/625 [==============================] - 2s 4ms/step - loss: 0.8825 - val_loss: 285278.2188\n",
      "Epoch 7/30\n",
      "625/625 [==============================] - 2s 4ms/step - loss: 0.8523 - val_loss: 285261.5938\n",
      "Epoch 8/30\n",
      "625/625 [==============================] - 2s 4ms/step - loss: 0.8329 - val_loss: 285263.2500\n",
      "Epoch 9/30\n",
      "625/625 [==============================] - 3s 4ms/step - loss: 0.8194 - val_loss: 285253.0312\n",
      "Epoch 10/30\n",
      "625/625 [==============================] - 3s 5ms/step - loss: 0.8083 - val_loss: 285256.8438\n",
      "Epoch 11/30\n",
      "625/625 [==============================] - 3s 4ms/step - loss: 0.7993 - val_loss: 285255.4375\n",
      "Epoch 12/30\n",
      "625/625 [==============================] - 3s 4ms/step - loss: 0.7918 - val_loss: 285251.9062\n",
      "Epoch 13/30\n",
      "625/625 [==============================] - 3s 4ms/step - loss: 0.7853 - val_loss: 285262.8750\n",
      "Epoch 14/30\n",
      "625/625 [==============================] - 3s 4ms/step - loss: 0.7778 - val_loss: 285255.5938\n",
      "Epoch 15/30\n",
      "625/625 [==============================] - 3s 4ms/step - loss: 0.7709 - val_loss: 285260.3750\n",
      "Epoch 16/30\n",
      "625/625 [==============================] - 3s 4ms/step - loss: 0.7632 - val_loss: 285255.1562\n",
      "Epoch 17/30\n",
      "625/625 [==============================] - 3s 4ms/step - loss: 0.7558 - val_loss: 285245.7188\n",
      "Epoch 18/30\n",
      "625/625 [==============================] - 3s 4ms/step - loss: 0.7473 - val_loss: 285257.0000\n",
      "Epoch 19/30\n",
      "625/625 [==============================] - 3s 4ms/step - loss: 0.7379 - val_loss: 285254.7500\n",
      "Epoch 20/30\n",
      "625/625 [==============================] - 3s 4ms/step - loss: 0.7285 - val_loss: 285253.7812\n",
      "Epoch 21/30\n",
      "625/625 [==============================] - 3s 4ms/step - loss: 0.7177 - val_loss: 285257.6250\n",
      "Epoch 22/30\n",
      "625/625 [==============================] - 3s 5ms/step - loss: 0.7057 - val_loss: 285248.7812\n",
      "Epoch 23/30\n",
      "625/625 [==============================] - 3s 5ms/step - loss: 0.6938 - val_loss: 285252.8438\n",
      "Epoch 24/30\n",
      "625/625 [==============================] - 2s 4ms/step - loss: 0.6808 - val_loss: 285254.9062\n",
      "Epoch 25/30\n",
      "625/625 [==============================] - 3s 4ms/step - loss: 0.6680 - val_loss: 285252.5938\n",
      "Epoch 26/30\n",
      "625/625 [==============================] - 2s 4ms/step - loss: 0.6535 - val_loss: 285252.8750\n",
      "Epoch 27/30\n",
      "625/625 [==============================] - 2s 4ms/step - loss: 0.6388 - val_loss: 285251.3125\n",
      "Epoch 28/30\n",
      "625/625 [==============================] - 2s 4ms/step - loss: 0.6244 - val_loss: 285253.7812\n",
      "Epoch 29/30\n",
      "625/625 [==============================] - 2s 4ms/step - loss: 0.6096 - val_loss: 285258.0312\n",
      "Epoch 30/30\n",
      "625/625 [==============================] - 2s 4ms/step - loss: 0.5942 - val_loss: 285253.1250\n"
     ]
    }
   ],
   "source": [
    "#train the model\n",
    "\n",
    "history = model.fit(x=[train.movie_id, train.user_id], y=train.user_rating, validation_data=([test.movie_id, test.user_id], test.user_id),\n",
    "         epochs=30,\n",
    "         batch_size=128 )"
   ]
  },
  {
   "cell_type": "code",
   "execution_count": 57,
   "id": "9a7367cd",
   "metadata": {},
   "outputs": [
    {
     "name": "stdout",
     "output_type": "stream",
     "text": [
      "625/625 [==============================] - 2s 3ms/step - loss: 0.8592\n"
     ]
    },
    {
     "data": {
      "text/plain": [
       "0.859245777130127"
      ]
     },
     "execution_count": 57,
     "metadata": {},
     "output_type": "execute_result"
    }
   ],
   "source": [
    "model.evaluate(x=[test.movie_id, test.user_id], y=test.user_rating)"
   ]
  },
  {
   "cell_type": "code",
   "execution_count": 58,
   "id": "fbdc9619",
   "metadata": {},
   "outputs": [
    {
     "data": {
      "text/plain": [
       "[<matplotlib.lines.Line2D at 0x285aa00aaa0>,\n",
       " <matplotlib.lines.Line2D at 0x285aa00ab00>]"
      ]
     },
     "execution_count": 58,
     "metadata": {},
     "output_type": "execute_result"
    },
    {
     "data": {
      "image/png": "[encoded data removed]",
      "text/plain": [
       "<Figure size 432x288 with 1 Axes>"
      ]
     },
     "metadata": {
      "needs_background": "light"
     },
     "output_type": "display_data"
    }
   ],
   "source": [
    "import matplotlib.pyplot as plt\n",
    "\n",
    "losses = pd.DataFrame(history.history)\n",
    "plt.plot(losses)"
   ]
  },
  {
   "cell_type": "code",
   "execution_count": 73,
   "id": "823a5ddd",
   "metadata": {},
   "outputs": [],
   "source": [
    "import numpy as np\n",
    "import matplotlib.pyplot as plt\n",
    "\n",
    "def get_embedding(mov, model):\n",
    "    vectors = model.layers[2](mov.movie_id.values).numpy()\n",
    "    vectors = pd.DataFrame(vectors)\n",
    "    vectors.to_csv('vectors.tsv', sep='\\t', header=False)\n",
    "    \n",
    "    mov.to_csv('meta.tsv', sep='\\t')\n",
    "get_embedding(mov, model)\n"
   ]
  },
  {
   "cell_type": "code",
   "execution_count": null,
   "id": "2bf92231",
   "metadata": {},
   "outputs": [],
   "source": []
  }
 ],
 "metadata": {
  "kernelspec": {
   "display_name": "Python 3 (ipykernel)",
   "language": "python",
   "name": "python3"
  },
  "language_info": {
   "codemirror_mode": {
    "name": "ipython",
    "version": 3
   },
   "file_extension": ".py",
   "mimetype": "text/x-python",
   "name": "python",
   "nbconvert_exporter": "python",
   "pygments_lexer": "ipython3",
   "version": "3.10.3"
  }
 },
 "nbformat": 4,
 "nbformat_minor": 5
}
